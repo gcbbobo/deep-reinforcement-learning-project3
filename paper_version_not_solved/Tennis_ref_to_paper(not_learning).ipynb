{
 "cells": [
  {
   "cell_type": "markdown",
   "metadata": {},
   "source": [
    "# Collaboration and Competition\n",
    "\n",
    "---\n",
    "\n",
    "In this notebook, you will learn how to use the Unity ML-Agents environment for the third project of the [Deep Reinforcement Learning Nanodegree](https://www.udacity.com/course/deep-reinforcement-learning-nanodegree--nd893) program.\n",
    "\n",
    "### 1. Start the Environment\n",
    "\n",
    "We begin by importing the necessary packages.  If the code cell below returns an error, please revisit the project instructions to double-check that you have installed [Unity ML-Agents](https://github.com/Unity-Technologies/ml-agents/blob/master/docs/Installation.md) and [NumPy](http://www.numpy.org/)."
   ]
  },
  {
   "cell_type": "code",
   "execution_count": 1,
   "metadata": {},
   "outputs": [],
   "source": [
    "import random\n",
    "import torch\n",
    "from collections import deque\n",
    "import matplotlib.pyplot as plt\n",
    "%matplotlib inline\n",
    "\n",
    "from unityagents import UnityEnvironment\n",
    "import numpy as np"
   ]
  },
  {
   "cell_type": "markdown",
   "metadata": {},
   "source": [
    "Next, we will start the environment!  **_Before running the code cell below_**, change the `file_name` parameter to match the location of the Unity environment that you downloaded.\n",
    "\n",
    "- **Mac**: `\"path/to/Tennis.app\"`\n",
    "- **Windows** (x86): `\"path/to/Tennis_Windows_x86/Tennis.exe\"`\n",
    "- **Windows** (x86_64): `\"path/to/Tennis_Windows_x86_64/Tennis.exe\"`\n",
    "- **Linux** (x86): `\"path/to/Tennis_Linux/Tennis.x86\"`\n",
    "- **Linux** (x86_64): `\"path/to/Tennis_Linux/Tennis.x86_64\"`\n",
    "- **Linux** (x86, headless): `\"path/to/Tennis_Linux_NoVis/Tennis.x86\"`\n",
    "- **Linux** (x86_64, headless): `\"path/to/Tennis_Linux_NoVis/Tennis.x86_64\"`\n",
    "\n",
    "For instance, if you are using a Mac, then you downloaded `Tennis.app`.  If this file is in the same folder as the notebook, then the line below should appear as follows:\n",
    "```\n",
    "env = UnityEnvironment(file_name=\"Tennis.app\")\n",
    "```"
   ]
  },
  {
   "cell_type": "code",
   "execution_count": 2,
   "metadata": {},
   "outputs": [
    {
     "name": "stderr",
     "output_type": "stream",
     "text": [
      "INFO:unityagents:\n",
      "'Academy' started successfully!\n",
      "Unity Academy name: Academy\n",
      "        Number of Brains: 1\n",
      "        Number of External Brains : 1\n",
      "        Lesson number : 0\n",
      "        Reset Parameters :\n",
      "\t\t\n",
      "Unity brain name: TennisBrain\n",
      "        Number of Visual Observations (per agent): 0\n",
      "        Vector Observation space type: continuous\n",
      "        Vector Observation space size (per agent): 8\n",
      "        Number of stacked Vector Observation: 3\n",
      "        Vector Action space type: continuous\n",
      "        Vector Action space size (per agent): 2\n",
      "        Vector Action descriptions: , \n"
     ]
    }
   ],
   "source": [
    "env = UnityEnvironment(file_name=\"C:/Users/freed/codes_in_c_disk/deep-reinforcement-learning-master_origin/deep-reinforcement-learning-master/p3_collab-compet/Tennis_Windows_x86_64/Tennis_Windows_x86_64/Tennis.exe\")"
   ]
  },
  {
   "cell_type": "markdown",
   "metadata": {},
   "source": [
    "Environments contain **_brains_** which are responsible for deciding the actions of their associated agents. Here we check for the first brain available, and set it as the default brain we will be controlling from Python."
   ]
  },
  {
   "cell_type": "code",
   "execution_count": 3,
   "metadata": {},
   "outputs": [],
   "source": [
    "# get the default brain\n",
    "brain_name = env.brain_names[0]\n",
    "brain = env.brains[brain_name]"
   ]
  },
  {
   "cell_type": "markdown",
   "metadata": {},
   "source": [
    "### 2. Examine the State and Action Spaces\n",
    "\n",
    "In this environment, two agents control rackets to bounce a ball over a net. If an agent hits the ball over the net, it receives a reward of +0.1.  If an agent lets a ball hit the ground or hits the ball out of bounds, it receives a reward of -0.01.  Thus, the goal of each agent is to keep the ball in play.\n",
    "\n",
    "The observation space consists of 8 variables corresponding to the position and velocity of the ball and racket. Two continuous actions are available, corresponding to movement toward (or away from) the net, and jumping. \n",
    "\n",
    "Run the code cell below to print some information about the environment."
   ]
  },
  {
   "cell_type": "code",
   "execution_count": 4,
   "metadata": {},
   "outputs": [
    {
     "name": "stdout",
     "output_type": "stream",
     "text": [
      "Number of agents: 2\n",
      "Size of each action: 2\n",
      "There are 2 agents. Each observes a state with length: 24\n",
      "The state for the first agent looks like: [ 0.          0.          0.          0.          0.          0.\n",
      "  0.          0.          0.          0.          0.          0.\n",
      "  0.          0.          0.          0.         -6.65278625 -1.5\n",
      " -0.          0.          6.83172083  6.         -0.          0.        ]\n"
     ]
    }
   ],
   "source": [
    "# reset the environment\n",
    "env_info = env.reset(train_mode=True)[brain_name]\n",
    "\n",
    "# number of agents \n",
    "num_agents = len(env_info.agents)\n",
    "print('Number of agents:', num_agents)\n",
    "\n",
    "# size of each action\n",
    "action_size = brain.vector_action_space_size\n",
    "print('Size of each action:', action_size)\n",
    "\n",
    "# examine the state space \n",
    "states = env_info.vector_observations\n",
    "\n",
    "# CAUTION:state_size here must be states.shape[1]\n",
    "# since states are stored: # of agents x # of states for each agent\n",
    "state_size = states.shape[1]\n",
    "print('There are {} agents. Each observes a state with length: {}'.format(states.shape[0], state_size))\n",
    "print('The state for the first agent looks like:', states[0])"
   ]
  },
  {
   "cell_type": "code",
   "execution_count": 5,
   "metadata": {},
   "outputs": [
    {
     "data": {
      "text/plain": [
       "2"
      ]
     },
     "execution_count": 5,
     "metadata": {},
     "output_type": "execute_result"
    }
   ],
   "source": [
    "states.shape[0]"
   ]
  },
  {
   "cell_type": "markdown",
   "metadata": {},
   "source": [
    "#### Test for nametuple"
   ]
  },
  {
   "cell_type": "code",
   "execution_count": 6,
   "metadata": {},
   "outputs": [],
   "source": [
    "from collections import namedtuple"
   ]
  },
  {
   "cell_type": "code",
   "execution_count": 7,
   "metadata": {},
   "outputs": [
    {
     "name": "stdout",
     "output_type": "stream",
     "text": [
      "experience\n",
      "Experience(state=array([[ 0.28232042,  2.37150562,  0.3685432 , -1.11708697,  0.40938667,\n",
      "         0.07909472, -1.53939216,  1.81544078, -0.93548364, -0.00766075,\n",
      "        -0.22320655,  2.64512586,  0.29374862,  0.64557694, -0.33359486,\n",
      "        -0.43109091,  1.72498278, -0.03676517, -0.0084238 ,  1.19895744,\n",
      "        -0.60684408,  0.03390527, -0.72874423, -0.29219972],\n",
      "       [ 1.40035574,  0.73370808,  0.23113104, -1.68725349, -0.17849403,\n",
      "        -1.39966181, -0.82805752,  0.6330946 , -0.94766794,  0.44675762,\n",
      "         1.24641994,  0.33537555,  1.60246467,  0.7808092 , -0.94230233,\n",
      "         0.2517294 ,  1.09197717,  0.28887909, -0.75314647, -1.99212494,\n",
      "         1.02978942,  0.80954369,  0.69573798,  0.00709959]]), action=array([[-0.80212685,  1.06307387],\n",
      "       [-1.03888309,  0.9290063 ]]), reward=array([0.77379386]), next_state=array([[ 0.20036392, -0.39010749,  0.91696144, -0.11851054, -0.64081465,\n",
      "         1.98638354,  0.15826782,  1.44885526,  1.54936163,  0.46345442,\n",
      "         1.19492545, -0.75600127, -0.16899624, -1.54853143,  1.65574009,\n",
      "        -0.69236263, -0.1134108 , -0.05531699, -0.88970452, -0.61967503,\n",
      "         0.64697516, -0.23028003,  0.59745309, -0.17068848],\n",
      "       [-0.95861064, -1.70106331, -0.09817134,  0.09988427,  0.83038564,\n",
      "        -1.05240899, -0.27428142,  0.97112782, -2.08830049,  0.11694457,\n",
      "        -0.09535188,  0.91414849, -0.81512071,  2.19268476,  0.24885151,\n",
      "        -0.51033495, -0.36631706,  0.5347868 , -0.33134643, -0.33444619,\n",
      "        -0.11411374, -0.48339403,  0.57357728,  1.28448537]]), done=array([0.43062691]))\n",
      "\n",
      "test_action_tensor.dim()\n",
      "2\n",
      "test_action_tensor.size()\n",
      "torch.Size([2, 2])\n",
      "torch.Size([4, 1])\n",
      "test_action_tensor.dim()\n",
      "2\n"
     ]
    }
   ],
   "source": [
    "test_action = np.random.randn(num_agents, action_size)\n",
    "test_state = np.random.randn(num_agents, state_size)\n",
    "reward = np.random.randn(1)\n",
    "test_next_state = np.random.randn(num_agents, state_size)\n",
    "done = np.random.randn(1)\n",
    "experience = namedtuple(\"Experience\", field_names=[\"state\", \"action\", \"reward\", \"next_state\", \"done\"])\n",
    "e = experience(test_state, test_action, reward, test_next_state, done)\n",
    "print('experience')\n",
    "print(e)\n",
    "print('')\n",
    "\n",
    "test_action_tensor = torch.as_tensor(test_action)\n",
    "print('test_action_tensor.dim()')\n",
    "print(test_action_tensor.dim())\n",
    "print('test_action_tensor.size()')\n",
    "print(test_action_tensor.size())\n",
    "\n",
    "if test_action_tensor.dim()!=1:\n",
    "    if test_action_tensor.dim()>1:\n",
    "            # torch.squeeze: Returns a tensor with all the dimensions of input of size 1 removed.\n",
    "            \n",
    "        test_action_tensor = test_action_tensor.view(-1,1)\n",
    "        print(test_action_tensor.size())\n",
    "    else:\n",
    "        test_action_tensor = torch.unsqueeze(test_action_tensor,0) \n",
    "            \n",
    "print('test_action_tensor.dim()')\n",
    "print(test_action_tensor.dim())"
   ]
  },
  {
   "cell_type": "code",
   "execution_count": 8,
   "metadata": {},
   "outputs": [
    {
     "name": "stdout",
     "output_type": "stream",
     "text": [
      "test_memory\n",
      "deque([Experience(state=array([[ 0.28232042,  2.37150562,  0.3685432 , -1.11708697,  0.40938667,\n",
      "         0.07909472, -1.53939216,  1.81544078, -0.93548364, -0.00766075,\n",
      "        -0.22320655,  2.64512586,  0.29374862,  0.64557694, -0.33359486,\n",
      "        -0.43109091,  1.72498278, -0.03676517, -0.0084238 ,  1.19895744,\n",
      "        -0.60684408,  0.03390527, -0.72874423, -0.29219972],\n",
      "       [ 1.40035574,  0.73370808,  0.23113104, -1.68725349, -0.17849403,\n",
      "        -1.39966181, -0.82805752,  0.6330946 , -0.94766794,  0.44675762,\n",
      "         1.24641994,  0.33537555,  1.60246467,  0.7808092 , -0.94230233,\n",
      "         0.2517294 ,  1.09197717,  0.28887909, -0.75314647, -1.99212494,\n",
      "         1.02978942,  0.80954369,  0.69573798,  0.00709959]]), action=array([[-0.80212685,  1.06307387],\n",
      "       [-1.03888309,  0.9290063 ]]), reward=array([0.77379386]), next_state=array([[ 0.20036392, -0.39010749,  0.91696144, -0.11851054, -0.64081465,\n",
      "         1.98638354,  0.15826782,  1.44885526,  1.54936163,  0.46345442,\n",
      "         1.19492545, -0.75600127, -0.16899624, -1.54853143,  1.65574009,\n",
      "        -0.69236263, -0.1134108 , -0.05531699, -0.88970452, -0.61967503,\n",
      "         0.64697516, -0.23028003,  0.59745309, -0.17068848],\n",
      "       [-0.95861064, -1.70106331, -0.09817134,  0.09988427,  0.83038564,\n",
      "        -1.05240899, -0.27428142,  0.97112782, -2.08830049,  0.11694457,\n",
      "        -0.09535188,  0.91414849, -0.81512071,  2.19268476,  0.24885151,\n",
      "        -0.51033495, -0.36631706,  0.5347868 , -0.33134643, -0.33444619,\n",
      "        -0.11411374, -0.48339403,  0.57357728,  1.28448537]]), done=array([0.43062691])), Experience(state=array([[ 0.28232042,  2.37150562,  0.3685432 , -1.11708697,  0.40938667,\n",
      "         0.07909472, -1.53939216,  1.81544078, -0.93548364, -0.00766075,\n",
      "        -0.22320655,  2.64512586,  0.29374862,  0.64557694, -0.33359486,\n",
      "        -0.43109091,  1.72498278, -0.03676517, -0.0084238 ,  1.19895744,\n",
      "        -0.60684408,  0.03390527, -0.72874423, -0.29219972],\n",
      "       [ 1.40035574,  0.73370808,  0.23113104, -1.68725349, -0.17849403,\n",
      "        -1.39966181, -0.82805752,  0.6330946 , -0.94766794,  0.44675762,\n",
      "         1.24641994,  0.33537555,  1.60246467,  0.7808092 , -0.94230233,\n",
      "         0.2517294 ,  1.09197717,  0.28887909, -0.75314647, -1.99212494,\n",
      "         1.02978942,  0.80954369,  0.69573798,  0.00709959]]), action=array([[-0.80212685,  1.06307387],\n",
      "       [-1.03888309,  0.9290063 ]]), reward=array([0.77379386]), next_state=array([[ 0.20036392, -0.39010749,  0.91696144, -0.11851054, -0.64081465,\n",
      "         1.98638354,  0.15826782,  1.44885526,  1.54936163,  0.46345442,\n",
      "         1.19492545, -0.75600127, -0.16899624, -1.54853143,  1.65574009,\n",
      "        -0.69236263, -0.1134108 , -0.05531699, -0.88970452, -0.61967503,\n",
      "         0.64697516, -0.23028003,  0.59745309, -0.17068848],\n",
      "       [-0.95861064, -1.70106331, -0.09817134,  0.09988427,  0.83038564,\n",
      "        -1.05240899, -0.27428142,  0.97112782, -2.08830049,  0.11694457,\n",
      "        -0.09535188,  0.91414849, -0.81512071,  2.19268476,  0.24885151,\n",
      "        -0.51033495, -0.36631706,  0.5347868 , -0.33134643, -0.33444619,\n",
      "        -0.11411374, -0.48339403,  0.57357728,  1.28448537]]), done=array([0.43062691]))], maxlen=32)\n"
     ]
    }
   ],
   "source": [
    "test_memory = deque(maxlen=2**5)\n",
    "for i in range(1,3): # tail is not included\n",
    "    test_memory.append(e)\n",
    "print('test_memory')\n",
    "print(test_memory)"
   ]
  },
  {
   "cell_type": "code",
   "execution_count": 9,
   "metadata": {},
   "outputs": [],
   "source": [
    "def sample(memory):\n",
    "    \"\"\"Randomly sample a batch of experiences from memory.\"\"\"\n",
    "    experiences = random.sample(memory, k=2**1)\n",
    "\n",
    "    states = torch.from_numpy(np.vstack([e.state for e in experiences if e is not None])).float()\n",
    "    actions = torch.from_numpy(np.vstack([e.action for e in experiences if e is not None])).float()\n",
    "    rewards = torch.from_numpy(np.vstack([e.reward for e in experiences if e is not None])).float()\n",
    "    next_states = torch.from_numpy(np.vstack([e.next_state for e in experiences if e is not None])).float()\n",
    "    dones = torch.from_numpy(np.vstack([e.done for e in experiences if e is not None]).astype(np.uint8)).float()\n",
    "\n",
    "    return (states, actions, rewards, next_states, dones)"
   ]
  },
  {
   "cell_type": "markdown",
   "metadata": {},
   "source": [
    "#### way of extracting states and actions of individual agent from those of all agents"
   ]
  },
  {
   "cell_type": "code",
   "execution_count": 10,
   "metadata": {},
   "outputs": [
    {
     "name": "stdout",
     "output_type": "stream",
     "text": [
      "all_states\n",
      "tensor([[ 0.2823,  2.3715,  0.3685, -1.1171,  0.4094,  0.0791, -1.5394,  1.8154,\n",
      "         -0.9355, -0.0077, -0.2232,  2.6451,  0.2937,  0.6456, -0.3336, -0.4311,\n",
      "          1.7250, -0.0368, -0.0084,  1.1990, -0.6068,  0.0339, -0.7287, -0.2922],\n",
      "        [ 1.4004,  0.7337,  0.2311, -1.6873, -0.1785, -1.3997, -0.8281,  0.6331,\n",
      "         -0.9477,  0.4468,  1.2464,  0.3354,  1.6025,  0.7808, -0.9423,  0.2517,\n",
      "          1.0920,  0.2889, -0.7531, -1.9921,  1.0298,  0.8095,  0.6957,  0.0071],\n",
      "        [ 0.2823,  2.3715,  0.3685, -1.1171,  0.4094,  0.0791, -1.5394,  1.8154,\n",
      "         -0.9355, -0.0077, -0.2232,  2.6451,  0.2937,  0.6456, -0.3336, -0.4311,\n",
      "          1.7250, -0.0368, -0.0084,  1.1990, -0.6068,  0.0339, -0.7287, -0.2922],\n",
      "        [ 1.4004,  0.7337,  0.2311, -1.6873, -0.1785, -1.3997, -0.8281,  0.6331,\n",
      "         -0.9477,  0.4468,  1.2464,  0.3354,  1.6025,  0.7808, -0.9423,  0.2517,\n",
      "          1.0920,  0.2889, -0.7531, -1.9921,  1.0298,  0.8095,  0.6957,  0.0071]])\n",
      "\n",
      "all_states[0:2]\n",
      "tensor([[ 0.2823,  2.3715,  0.3685, -1.1171,  0.4094,  0.0791, -1.5394,  1.8154,\n",
      "         -0.9355, -0.0077, -0.2232,  2.6451,  0.2937,  0.6456, -0.3336, -0.4311,\n",
      "          1.7250, -0.0368, -0.0084,  1.1990, -0.6068,  0.0339, -0.7287, -0.2922],\n",
      "        [ 1.4004,  0.7337,  0.2311, -1.6873, -0.1785, -1.3997, -0.8281,  0.6331,\n",
      "         -0.9477,  0.4468,  1.2464,  0.3354,  1.6025,  0.7808, -0.9423,  0.2517,\n",
      "          1.0920,  0.2889, -0.7531, -1.9921,  1.0298,  0.8095,  0.6957,  0.0071]])\n",
      "all_states[0:2:]\n",
      "tensor([[ 0.2823,  2.3715,  0.3685, -1.1171,  0.4094,  0.0791, -1.5394,  1.8154,\n",
      "         -0.9355, -0.0077, -0.2232,  2.6451,  0.2937,  0.6456, -0.3336, -0.4311,\n",
      "          1.7250, -0.0368, -0.0084,  1.1990, -0.6068,  0.0339, -0.7287, -0.2922],\n",
      "        [ 0.2823,  2.3715,  0.3685, -1.1171,  0.4094,  0.0791, -1.5394,  1.8154,\n",
      "         -0.9355, -0.0077, -0.2232,  2.6451,  0.2937,  0.6456, -0.3336, -0.4311,\n",
      "          1.7250, -0.0368, -0.0084,  1.1990, -0.6068,  0.0339, -0.7287, -0.2922]])\n"
     ]
    }
   ],
   "source": [
    "all_states, all_actions, rewards, all_next_states, all_dones = sample(test_memory)\n",
    "print('all_states')\n",
    "print(all_states)\n",
    "print('')\n",
    "print('all_states[0:2]')\n",
    "print(all_states[0:2])\n",
    "print('all_states[0:2:]')\n",
    "print(all_states[0::2])"
   ]
  },
  {
   "cell_type": "markdown",
   "metadata": {},
   "source": [
    "### 3. Program"
   ]
  },
  {
   "cell_type": "code",
   "execution_count": 11,
   "metadata": {},
   "outputs": [],
   "source": [
    "from ddpg_agent import Agent\n",
    "import copy\n",
    "\n",
    "# CAUTION:\n",
    "'''\n",
    "Here \n",
    "action_size = brain.vector_action_space_size = 2\n",
    "states = env_info.vector_observations\n",
    "state_size = states.shape[1] = 24\n",
    "So for critic network, state_size, action_size have to  be doubled\n",
    "'''\n",
    "agent = Agent(state_size=state_size, action_size=action_size, random_seed=2)"
   ]
  },
  {
   "cell_type": "code",
   "execution_count": 15,
   "metadata": {
    "scrolled": false
   },
   "outputs": [
    {
     "name": "stdout",
     "output_type": "stream",
     "text": [
      "Episode 100\tAverage Score: -0.01\n",
      "Episode 200\tAverage Score: -0.01\n",
      "Episode 300\tAverage Score: -0.01\n",
      "Episode 400\tAverage Score: -0.01\n",
      "Episode 500\tAverage Score: -0.01\n",
      "Episode 600\tAverage Score: -0.01\n",
      "Episode 700\tAverage Score: -0.01\n",
      "Episode 800\tAverage Score: -0.01\n"
     ]
    }
   ],
   "source": [
    "def ddpg(n_episodes=800, max_t=1000,print_every=100):\n",
    "#def ddpg(n_episodes=500,print_every=100):\n",
    "    \n",
    "    scores_deque = deque(maxlen=print_every)\n",
    "    scores = []\n",
    "    aver_scores = []\n",
    "    max_aver_score = 0 \n",
    "    \n",
    "    \n",
    "    for i_episode in range(1, n_episodes+1):\n",
    "        \n",
    "        #t = 0 # in previous cases, t is defined in:for t in range(max_t),not much difference in this case\n",
    "        \n",
    "        env_info = env.reset(train_mode=True)[brain_name]     # reset the environment\n",
    "        all_states = env_info.vector_observations\n",
    "        stateA = all_states[0]                                # get the current state (for each agent)\n",
    "        stateB = all_states[1]\n",
    "        \n",
    "        agent.reset()\n",
    "        score = np.zeros(num_agents)\n",
    "        \n",
    "        for t in range(max_t):\n",
    "        #while True:\n",
    "            #t += 1\n",
    "            \n",
    "            actionA = agent.act(stateA,agent_index=0)\n",
    "            actionB = agent.act(stateB,agent_index=1)\n",
    "            \n",
    "            # For random policy,\n",
    "            #actions = np.random.randn(num_agents, action_size)   # select an action (for each agent)\n",
    "            \n",
    "            actions = np.concatenate((actionA, actionB))\n",
    "            all_actions = actions\n",
    "            \n",
    "            env_info = env.step(actions)[brain_name]              # send all actions to tne environment\n",
    "            \n",
    "            # remove [0] for multiple agents\n",
    "            all_next_states = env_info.vector_observations\n",
    "            next_stateA = all_next_states[0]             # get next state (for each agent)\n",
    "            next_stateB = all_next_states[1]         \n",
    "            \n",
    "            rewards = env_info.rewards\n",
    "            rewardA = rewards[0]                         # get reward (for each agent)\n",
    "            rewardB = rewards[1]\n",
    "            \n",
    "            dones = env_info.local_done\n",
    "            doneA = dones[0]                        # see if episode finished\n",
    "            doneB = dones[1]                        \n",
    "            all_dones = dones\n",
    "            \n",
    "            agent.step(all_states, all_actions, rewardA, all_next_states, all_dones,t,score,agent_index=0)\n",
    "            agent.step(all_states, all_actions, rewardB, all_next_states, all_dones,t,score,agent_index=1)\n",
    "            \n",
    "            score += env_info.rewards                          # update the score (for each agent)\n",
    "            all_states = all_next_states\n",
    "            stateA = next_stateA                               # roll over states to next time step\n",
    "            stateB = next_stateB                               \n",
    "            \n",
    "            if np.any(dones):                              # exit loop if episode finished\n",
    "                break    \n",
    "              \n",
    "        \n",
    "        scores_deque.append(np.min(score))\n",
    "        scores.append(np.min(score))\n",
    "        aver_scores.append(np.mean(scores_deque))\n",
    "        print('\\rEpisode {}\\tAverage Score: {:.2f}'.format(i_episode, \n",
    "                                                           np.mean(scores_deque)), end=\"\")\n",
    "            \n",
    "        if i_episode % print_every == 0:\n",
    "            print('\\rEpisode {}\\tAverage Score: {:.2f}'.format(i_episode, \n",
    "                                                               np.mean(scores_deque)))\n",
    "        '''    \n",
    "        if np.mean(scores_deque)>=max_aver_score:\n",
    "            max_aver_score = copy.deepcopy(np.mean(scores_deque))\n",
    "\n",
    "            torch.save(agent.actorA_local.state_dict(), 'checkpoint_actorA_min.pth')\n",
    "            torch.save(agent.actorB_local.state_dict(), 'checkpoint_actorB_min.pth')\n",
    "            torch.save(agent.critic_local.state_dict(), 'checkpoint_critic_min.pth')\n",
    "        '''\n",
    "        \n",
    "        if np.mean(scores_deque)>=0.5:\n",
    "\n",
    "            torch.save(agent.actorA_local.state_dict(), 'checkpoint_actorA_min.pth')\n",
    "            torch.save(agent.actorB_local.state_dict(), 'checkpoint_actorB_min.pth')\n",
    "            torch.save(agent.critic_local.state_dict(), 'checkpoint_critic_min.pth')\n",
    "            \n",
    "            break\n",
    "            \n",
    "    return scores,aver_scores\n",
    "\n",
    "scores,aver_scores = ddpg()\n"
   ]
  },
  {
   "cell_type": "code",
   "execution_count": null,
   "metadata": {},
   "outputs": [],
   "source": [
    "fig = plt.figure()\n",
    "ax = fig.add_subplot(111)\n",
    "plt.plot(np.arange(1, len(scores)+1), scores)\n",
    "plt.plot(np.arange(1, len(scores)+1), aver_scores)\n",
    "ax.set_ylim([0,1])\n",
    "plt.ylabel('Score')\n",
    "plt.xlabel('Episode #')\n",
    "plt.show()"
   ]
  },
  {
   "cell_type": "markdown",
   "metadata": {},
   "source": [
    "### DDPG retest"
   ]
  },
  {
   "cell_type": "code",
   "execution_count": null,
   "metadata": {},
   "outputs": [],
   "source": [
    "import pandas as pd\n",
    "pd_scores = pd.DataFrame(scores)\n",
    "pd_aver_scores = pd.DataFrame(aver_scores)\n",
    "pd_scores.to_csv('./double_actor_scores_min.csv')\n",
    "pd_aver_scores.to_csv('./double_actor_aver_scores_min.csv')"
   ]
  },
  {
   "cell_type": "code",
   "execution_count": null,
   "metadata": {},
   "outputs": [],
   "source": [
    "from ddpg_agent import Agent\n",
    "import copy\n",
    "# here try to regard the agent as the multi-agent system\n",
    "agent = Agent(state_size=state_size, action_size=action_size, random_seed=2)\n",
    "\n",
    "agent.actorA_local.state_dict(torch.load('checkpoint_actorA_min.pth'))\n",
    "agent.actorB_local.state_dict(torch.load('checkpoint_actorB_min.pth'))\n",
    "#agent.critic_local.state_dict(torch.load('checkpoint_critic_min.pth'))\n",
    "\n",
    "for i in range(1, 10):                                      # play game for 10 episodes\n",
    "    env_info = env.reset(train_mode=False)[brain_name]     # reset the environment    \n",
    "    states = env_info.vector_observations                  # get the current state (for each agent)\n",
    "    \n",
    "    stateA = states[0]                                     # get the current state (for each agent)\n",
    "    stateB = states[1]\n",
    "    scores = np.zeros(num_agents)                          # initialize the score (for each agent)\n",
    "    \n",
    "    while True:\n",
    "        actionA = agent.act(stateA,agent_index=0,add_noise=False)\n",
    "        actionB = agent.act(stateB,agent_index=1,add_noise=False)\n",
    "        actions = np.concatenate((actionA, actionB))\n",
    "        \n",
    "        #actions = np.clip(actions, -1, 1)                 # all actions between -1 and 1\n",
    "        env_info = env.step(actions)[brain_name]           # send all actions to tne environment\n",
    "        next_states = env_info.vector_observations         # get next state (for each agent)\n",
    "        #next_stateA = next_states[0]                       # get next state (for each agent)\n",
    "        #next_stateB = next_states[1]         \n",
    "        \n",
    "        \n",
    "        #rewards = env_info.rewards                         # get reward (for each agent)\n",
    "        #rewardA = rewards[0]                               # get reward (for each agent)\n",
    "        #rewardB = rewards[1]\n",
    "        dones = env_info.local_done                        # see if episode finished\n",
    "        scores += env_info.rewards                         # update the score (for each agent)\n",
    "        states = next_states                               # roll over states to next time step\n",
    "        if np.any(dones):                                  # exit loop if episode finished\n",
    "            break\n",
    "    print('Score (max over agents) from episode {}: {}'.format(i, np.max(scores)))\n"
   ]
  },
  {
   "cell_type": "code",
   "execution_count": 16,
   "metadata": {},
   "outputs": [],
   "source": [
    "env.close()"
   ]
  }
 ],
 "metadata": {
  "kernelspec": {
   "display_name": "Python [conda env:dl]",
   "language": "python",
   "name": "conda-env-dl-py"
  },
  "language_info": {
   "codemirror_mode": {
    "name": "ipython",
    "version": 3
   },
   "file_extension": ".py",
   "mimetype": "text/x-python",
   "name": "python",
   "nbconvert_exporter": "python",
   "pygments_lexer": "ipython3",
   "version": "3.6.8"
  }
 },
 "nbformat": 4,
 "nbformat_minor": 2
}

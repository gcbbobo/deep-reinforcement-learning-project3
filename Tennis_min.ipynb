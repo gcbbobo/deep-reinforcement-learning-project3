{
 "cells": [
  {
   "cell_type": "markdown",
   "metadata": {},
   "source": [
    "# Collaboration and Competition\n",
    "\n",
    "---\n",
    "\n",
    "In this notebook, you will learn how to use the Unity ML-Agents environment for the third project of the [Deep Reinforcement Learning Nanodegree](https://www.udacity.com/course/deep-reinforcement-learning-nanodegree--nd893) program.\n",
    "\n",
    "### 1. Start the Environment\n",
    "\n",
    "We begin by importing the necessary packages.  If the code cell below returns an error, please revisit the project instructions to double-check that you have installed [Unity ML-Agents](https://github.com/Unity-Technologies/ml-agents/blob/master/docs/Installation.md) and [NumPy](http://www.numpy.org/)."
   ]
  },
  {
   "cell_type": "code",
   "execution_count": 1,
   "metadata": {},
   "outputs": [],
   "source": [
    "import random\n",
    "import torch\n",
    "from collections import deque\n",
    "import matplotlib.pyplot as plt\n",
    "%matplotlib inline\n",
    "\n",
    "from unityagents import UnityEnvironment\n",
    "import numpy as np"
   ]
  },
  {
   "cell_type": "markdown",
   "metadata": {},
   "source": [
    "Next, we will start the environment!  **_Before running the code cell below_**, change the `file_name` parameter to match the location of the Unity environment that you downloaded.\n",
    "\n",
    "- **Mac**: `\"path/to/Tennis.app\"`\n",
    "- **Windows** (x86): `\"path/to/Tennis_Windows_x86/Tennis.exe\"`\n",
    "- **Windows** (x86_64): `\"path/to/Tennis_Windows_x86_64/Tennis.exe\"`\n",
    "- **Linux** (x86): `\"path/to/Tennis_Linux/Tennis.x86\"`\n",
    "- **Linux** (x86_64): `\"path/to/Tennis_Linux/Tennis.x86_64\"`\n",
    "- **Linux** (x86, headless): `\"path/to/Tennis_Linux_NoVis/Tennis.x86\"`\n",
    "- **Linux** (x86_64, headless): `\"path/to/Tennis_Linux_NoVis/Tennis.x86_64\"`\n",
    "\n",
    "For instance, if you are using a Mac, then you downloaded `Tennis.app`.  If this file is in the same folder as the notebook, then the line below should appear as follows:\n",
    "```\n",
    "env = UnityEnvironment(file_name=\"Tennis.app\")\n",
    "```"
   ]
  },
  {
   "cell_type": "code",
   "execution_count": 2,
   "metadata": {},
   "outputs": [
    {
     "name": "stderr",
     "output_type": "stream",
     "text": [
      "INFO:unityagents:\n",
      "'Academy' started successfully!\n",
      "Unity Academy name: Academy\n",
      "        Number of Brains: 1\n",
      "        Number of External Brains : 1\n",
      "        Lesson number : 0\n",
      "        Reset Parameters :\n",
      "\t\t\n",
      "Unity brain name: TennisBrain\n",
      "        Number of Visual Observations (per agent): 0\n",
      "        Vector Observation space type: continuous\n",
      "        Vector Observation space size (per agent): 8\n",
      "        Number of stacked Vector Observation: 3\n",
      "        Vector Action space type: continuous\n",
      "        Vector Action space size (per agent): 2\n",
      "        Vector Action descriptions: , \n"
     ]
    }
   ],
   "source": [
    "env = UnityEnvironment(file_name=\"C:/Users/freed/codes_in_c_disk/deep-reinforcement-learning-master_origin/deep-reinforcement-learning-master/p3_collab-compet/Tennis_Windows_x86_64/Tennis_Windows_x86_64/Tennis.exe\")"
   ]
  },
  {
   "cell_type": "markdown",
   "metadata": {},
   "source": [
    "Environments contain **_brains_** which are responsible for deciding the actions of their associated agents. Here we check for the first brain available, and set it as the default brain we will be controlling from Python."
   ]
  },
  {
   "cell_type": "code",
   "execution_count": 3,
   "metadata": {},
   "outputs": [],
   "source": [
    "# get the default brain\n",
    "brain_name = env.brain_names[0]\n",
    "brain = env.brains[brain_name]"
   ]
  },
  {
   "cell_type": "markdown",
   "metadata": {},
   "source": [
    "### 2. Examine the State and Action Spaces\n",
    "\n",
    "In this environment, two agents control rackets to bounce a ball over a net. If an agent hits the ball over the net, it receives a reward of +0.1.  If an agent lets a ball hit the ground or hits the ball out of bounds, it receives a reward of -0.01.  Thus, the goal of each agent is to keep the ball in play.\n",
    "\n",
    "The observation space consists of 8 variables corresponding to the position and velocity of the ball and racket. Two continuous actions are available, corresponding to movement toward (or away from) the net, and jumping. \n",
    "\n",
    "Run the code cell below to print some information about the environment."
   ]
  },
  {
   "cell_type": "code",
   "execution_count": 4,
   "metadata": {},
   "outputs": [
    {
     "name": "stdout",
     "output_type": "stream",
     "text": [
      "Number of agents: 2\n",
      "Size of each action: 2\n",
      "There are 2 agents. Each observes a state with length: 24\n",
      "The state for the first agent looks like: [ 0.          0.          0.          0.          0.          0.\n",
      "  0.          0.          0.          0.          0.          0.\n",
      "  0.          0.          0.          0.         -6.65278625 -1.5\n",
      " -0.          0.          6.83172083  6.         -0.          0.        ]\n"
     ]
    }
   ],
   "source": [
    "# reset the environment\n",
    "env_info = env.reset(train_mode=True)[brain_name]\n",
    "\n",
    "# number of agents \n",
    "num_agents = len(env_info.agents)\n",
    "print('Number of agents:', num_agents)\n",
    "\n",
    "# size of each action\n",
    "action_size = brain.vector_action_space_size\n",
    "print('Size of each action:', action_size)\n",
    "\n",
    "# examine the state space \n",
    "states = env_info.vector_observations\n",
    "\n",
    "# CAUTION:state_size here must be states.shape[1]\n",
    "# since states are stored: # of agents x # of states for each agent\n",
    "state_size = states.shape[1]\n",
    "print('There are {} agents. Each observes a state with length: {}'.format(states.shape[0], state_size))\n",
    "print('The state for the first agent looks like:', states[0])"
   ]
  },
  {
   "cell_type": "code",
   "execution_count": 5,
   "metadata": {},
   "outputs": [
    {
     "data": {
      "text/plain": [
       "2"
      ]
     },
     "execution_count": 5,
     "metadata": {},
     "output_type": "execute_result"
    }
   ],
   "source": [
    "states.shape[0]"
   ]
  },
  {
   "cell_type": "markdown",
   "metadata": {},
   "source": [
    "### 3. Program"
   ]
  },
  {
   "cell_type": "code",
   "execution_count": 6,
   "metadata": {
    "scrolled": false
   },
   "outputs": [
    {
     "name": "stderr",
     "output_type": "stream",
     "text": [
      "C:\\Users\\freed\\AppData\\Roaming\\Python\\Python36\\site-packages\\torch\\nn\\functional.py:1320: UserWarning: nn.functional.tanh is deprecated. Use torch.tanh instead.\n",
      "  warnings.warn(\"nn.functional.tanh is deprecated. Use torch.tanh instead.\")\n"
     ]
    },
    {
     "name": "stdout",
     "output_type": "stream",
     "text": [
      "Episode 100\tAverage Score: -0.01\n",
      "Episode 200\tAverage Score: -0.01\n",
      "Episode 300\tAverage Score: -0.01\n",
      "Episode 400\tAverage Score: -0.01\n",
      "Episode 500\tAverage Score: 0.010\n",
      "Episode 600\tAverage Score: 0.05\n",
      "Episode 700\tAverage Score: 0.05\n",
      "Episode 800\tAverage Score: 0.07\n",
      "Episode 900\tAverage Score: 0.09\n",
      "Episode 1000\tAverage Score: 0.19\n",
      "Episode 1100\tAverage Score: 0.28\n",
      "Episode 1200\tAverage Score: 0.35\n",
      "Episode 1300\tAverage Score: 0.37\n",
      "Episode 1343\tAverage Score: 0.51score = 0.5 achieved by the weaker agent by episode: 1343\n",
      "Episode 1400\tAverage Score: 0.55\n",
      "Episode 1444\tAverage Score: 0.50"
     ]
    }
   ],
   "source": [
    "from ddpg_agent import Agent\n",
    "import copy\n",
    "# here try to regard the agent as the multi-agent system\n",
    "agent = Agent(state_size=state_size, action_size=action_size, random_seed=2)\n",
    "\n",
    "def ddpg(n_episodes=3000, max_t=1000,print_every=100):\n",
    "    \n",
    "    scores_deque = deque(maxlen=print_every)\n",
    "    scores = []\n",
    "    aver_scores = []\n",
    "    flag = 0\n",
    "    max_aver_score = 0 \n",
    "    \n",
    "    for i_episode in range(1, n_episodes+1):\n",
    "        #t = 0 # in previous cases, t is defined in:for t in range(max_t),not much difference in this case\n",
    "        \n",
    "        env_info = env.reset(train_mode=True)[brain_name]     # reset the environment\n",
    "        stateA = env_info.vector_observations[0]               # get the current state (for each agent)\n",
    "        stateB = env_info.vector_observations[1]\n",
    "        \n",
    "        agent.reset()\n",
    "        score = np.zeros(num_agents)\n",
    "        \n",
    "        for t in range(max_t):\n",
    "        #while True:\n",
    "            #t += 1\n",
    "            \n",
    "            actionA = agent.act(stateA,agent_index=0)\n",
    "            actionB = agent.act(stateB,agent_index=1)\n",
    "            \n",
    "            # For random policy,\n",
    "            #actions = np.random.randn(num_agents, action_size)   # select an action (for each agent)\n",
    "            \n",
    "            actions = np.concatenate((actionA, actionB))\n",
    "            env_info = env.step(actions)[brain_name]              # send all actions to tne environment\n",
    "            \n",
    "            # remove [0] for multiple agents\n",
    "            next_stateA = env_info.vector_observations[0]         # get next state (for each agent)\n",
    "            next_stateB = env_info.vector_observations[1]         \n",
    "            \n",
    "            rewards = env_info.rewards\n",
    "            rewardA = rewards[0]                         # get reward (for each agent)\n",
    "            rewardB = rewards[1]                         \n",
    "            dones = env_info.local_done\n",
    "            doneA = dones[0]                        # see if episode finished\n",
    "            doneB = dones[1]                        \n",
    "            \n",
    "            agent.step(stateA, actionA, rewardA, next_stateA, doneA,t,score,agent_index=0)\n",
    "            agent.step(stateB, actionB, rewardB, next_stateB, doneB,t,score,agent_index=1)\n",
    "            \n",
    "            score += env_info.rewards                          # update the score (for each agent)\n",
    "            stateA = next_stateA                               # roll over states to next time step\n",
    "            stateB = next_stateB                               \n",
    "            \n",
    "            if np.any(dones):                              # exit loop if episode finished\n",
    "                break    \n",
    "              \n",
    "        \n",
    "        scores_deque.append(np.min(score))\n",
    "        scores.append(np.min(score))\n",
    "        aver_scores.append(np.mean(scores_deque))\n",
    "        print('\\rEpisode {}\\tAverage Score: {:.2f}'.format(i_episode, \n",
    "                                                           np.mean(scores_deque)), end=\"\")\n",
    "            \n",
    "        if i_episode % print_every == 0:\n",
    "            print('\\rEpisode {}\\tAverage Score: {:.2f}'.format(i_episode, \n",
    "                                                               np.mean(scores_deque)))\n",
    "        '''    \n",
    "        if np.mean(scores_deque)>=max_aver_score:\n",
    "            max_aver_score = copy.deepcopy(np.mean(scores_deque))\n",
    "\n",
    "            torch.save(agent.actorA_local.state_dict(), 'checkpoint_actorA_min.pth')\n",
    "            torch.save(agent.actorB_local.state_dict(), 'checkpoint_actorB_min.pth')\n",
    "            torch.save(agent.critic_local.state_dict(), 'checkpoint_critic_min.pth')\n",
    "        '''\n",
    "        \n",
    "        if np.mean(scores_deque)>=0.5:\n",
    "            \n",
    "            if flag == 0:\n",
    "                print('score = 0.5 achieved by the weaker agent by episode:',i_episode)\n",
    "                i_episode_rec = copy.deepcopy(i_episode)\n",
    "                flag = 1\n",
    "\n",
    "                torch.save(agent.actorA_local.state_dict(), 'checkpoint_actorA_min.pth')\n",
    "                torch.save(agent.actorB_local.state_dict(), 'checkpoint_actorB_min.pth')\n",
    "                torch.save(agent.critic_local.state_dict(), 'checkpoint_critic_min.pth')\n",
    "              \n",
    "            #break\n",
    "                \n",
    "            if i_episode > i_episode_rec + 100:\n",
    "                break\n",
    "            \n",
    "    return scores,aver_scores\n",
    "\n",
    "scores,aver_scores = ddpg()\n"
   ]
  },
  {
   "cell_type": "code",
   "execution_count": 7,
   "metadata": {},
   "outputs": [
    {
     "data": {
      "image/png": "[encoded data removed]",
      "text/plain": [
       "<Figure size 432x288 with 1 Axes>"
      ]
     },
     "metadata": {
      "needs_background": "light"
     },
     "output_type": "display_data"
    }
   ],
   "source": [
    "fig = plt.figure()\n",
    "ax = fig.add_subplot(111)\n",
    "plt.plot(np.arange(1, len(scores)+1), scores)\n",
    "plt.plot(np.arange(1, len(scores)+1), aver_scores)\n",
    "ax.set_ylim([0,1])\n",
    "plt.ylabel('Score')\n",
    "plt.xlabel('Episode #')\n",
    "plt.show()"
   ]
  },
  {
   "cell_type": "markdown",
   "metadata": {},
   "source": [
    "### DDPG retest"
   ]
  },
  {
   "cell_type": "code",
   "execution_count": 12,
   "metadata": {},
   "outputs": [
    {
     "name": "stdout",
     "output_type": "stream",
     "text": [
      "Episode 100\tAverage Score: 0.47\n"
     ]
    }
   ],
   "source": [
    "def ddpg_re(n_episodes=100, max_t=1000,print_every=100):\n",
    "    \n",
    "    scores_deque = deque(maxlen=print_every)\n",
    "    scores = []\n",
    "    aver_scores = []\n",
    "    flag = 0\n",
    "    max_aver_score = 0 \n",
    "    \n",
    "    #agent.actorA_local.state_dict(torch.load('checkpoint_actorA_min.pth'))\n",
    "    #agent.actorB_local.state_dict(torch.load('checkpoint_actorB_min.pth'))\n",
    "    #agent.critic_local.state_dict(torch.load('checkpoint_critic_min.pth'))\n",
    "    \n",
    "    for i_episode in range(1, n_episodes+1):\n",
    "        #t = 0 # in previous cases, t is defined in:for t in range(max_t),not much difference in this case\n",
    "        \n",
    "        env_info = env.reset(train_mode=True)[brain_name]     # reset the environment\n",
    "        stateA = env_info.vector_observations[0]               # get the current state (for each agent)\n",
    "        stateB = env_info.vector_observations[1]\n",
    "        \n",
    "        agent.reset()\n",
    "\n",
    "        score = np.zeros(num_agents)\n",
    "        \n",
    "        for t in range(max_t):\n",
    "        #while True:\n",
    "            #t += 1\n",
    "            \n",
    "            actionA = agent.act(stateA,agent_index=0)\n",
    "            actionB = agent.act(stateB,agent_index=1)\n",
    "            \n",
    "            # For random policy,\n",
    "            #actions = np.random.randn(num_agents, action_size)   # select an action (for each agent)\n",
    "            \n",
    "            actions = np.concatenate((actionA, actionB))\n",
    "            env_info = env.step(actions)[brain_name]              # send all actions to tne environment\n",
    "            \n",
    "            # remove [0] for multiple agents\n",
    "            next_stateA = env_info.vector_observations[0]         # get next state (for each agent)\n",
    "            next_stateB = env_info.vector_observations[1]         \n",
    "            \n",
    "            rewards = env_info.rewards\n",
    "            rewardA = rewards[0]                         # get reward (for each agent)\n",
    "            rewardB = rewards[1]                         \n",
    "            dones = env_info.local_done\n",
    "            doneA = dones[0]                        # see if episode finished\n",
    "            doneB = dones[1]                        \n",
    "            \n",
    "            agent.step(stateA, actionA, rewardA, next_stateA, doneA,t,score,agent_index=0)\n",
    "            agent.step(stateB, actionB, rewardB, next_stateB, doneB,t,score,agent_index=1)\n",
    "            \n",
    "            score += env_info.rewards                          # update the score (for each agent)\n",
    "            stateA = next_stateA                               # roll over states to next time step\n",
    "            stateB = next_stateB                               \n",
    "            \n",
    "            if np.any(dones):                              # exit loop if episode finished\n",
    "                break    \n",
    "              \n",
    "        \n",
    "        scores_deque.append(np.min(score))\n",
    "        scores.append(np.min(score))\n",
    "        aver_scores.append(np.mean(scores_deque))\n",
    "        print('\\rEpisode {}\\tAverage Score: {:.2f}'.format(i_episode, \n",
    "                                                           np.mean(scores_deque)), end=\"\")\n",
    "            \n",
    "        if i_episode % print_every == 0:\n",
    "            print('\\rEpisode {}\\tAverage Score: {:.2f}'.format(i_episode, \n",
    "                                                               np.mean(scores_deque)))\n",
    "        '''    \n",
    "        if np.mean(scores_deque)>=max_aver_score:\n",
    "            max_aver_score = copy.deepcopy(np.mean(scores_deque))\n",
    "\n",
    "            torch.save(agent.actorA_local.state_dict(), 'checkpoint_actorA_min.pth')\n",
    "            torch.save(agent.actorB_local.state_dict(), 'checkpoint_actorB_min.pth')\n",
    "            torch.save(agent.critic_local.state_dict(), 'checkpoint_critic_min.pth')\n",
    "        '''\n",
    "        \n",
    "        if np.mean(scores_deque)>=0.5:\n",
    "            \n",
    "            if flag == 0:\n",
    "                print('score = 0.5 achieved by the weaker agent by episode:',i_episode)\n",
    "                i_episode_rec = copy.deepcopy(i_episode)\n",
    "                flag = 1\n",
    "\n",
    "                torch.save(agent.actorA_local.state_dict(), 'checkpoint_actorA_min.pth')\n",
    "                torch.save(agent.actorB_local.state_dict(), 'checkpoint_actorB_min.pth')\n",
    "                torch.save(agent.critic_local.state_dict(), 'checkpoint_critic_min.pth')\n",
    "              \n",
    "            #break\n",
    "                \n",
    "            if i_episode > i_episode_rec + 100:\n",
    "                break\n",
    "            \n",
    "    return scores,aver_scores\n",
    "\n",
    "scores,aver_scores = ddpg_re()\n"
   ]
  },
  {
   "cell_type": "code",
   "execution_count": null,
   "metadata": {},
   "outputs": [],
   "source": [
    "import pandas as pd\n",
    "pd_scores = pd.DataFrame(scores)\n",
    "pd_aver_scores = pd.DataFrame(aver_scores)\n",
    "pd_scores.to_csv('./double_actor_scores_min.csv')\n",
    "pd_aver_scores.to_csv('./double_actor_aver_scores_min.csv')"
   ]
  },
  {
   "cell_type": "code",
   "execution_count": 11,
   "metadata": {},
   "outputs": [
    {
     "name": "stdout",
     "output_type": "stream",
     "text": [
      "Score (max over agents) from episode 1: 0.0\n",
      "Score (max over agents) from episode 2: 0.0\n",
      "Score (max over agents) from episode 3: 0.0\n",
      "Score (max over agents) from episode 4: 0.0\n",
      "Score (max over agents) from episode 5: 0.0\n",
      "Score (max over agents) from episode 6: 0.0\n",
      "Score (max over agents) from episode 7: 0.0\n",
      "Score (max over agents) from episode 8: 0.0\n",
      "Score (max over agents) from episode 9: 0.0\n"
     ]
    }
   ],
   "source": [
    "agent.actorA_local.state_dict(torch.load('checkpoint_actorA_min.pth'))\n",
    "agent.actorB_local.state_dict(torch.load('checkpoint_actorB_min.pth'))\n",
    "agent.critic_local.state_dict(torch.load('checkpoint_critic_min.pth'))\n",
    "\n",
    "for i in range(1, 10):                                      # play game for 10 episodes\n",
    "    env_info = env.reset(train_mode=False)[brain_name]     # reset the environment    \n",
    "    states = env_info.vector_observations                  # get the current state (for each agent)\n",
    "    \n",
    "    stateA = states[0]                                     # get the current state (for each agent)\n",
    "    stateB = states[1]\n",
    "    scores = np.zeros(num_agents)                          # initialize the score (for each agent)\n",
    "    \n",
    "    while True:\n",
    "        actionA = agent.act(stateA,agent_index=0,add_noise=False)\n",
    "        actionB = agent.act(stateB,agent_index=1,add_noise=False)\n",
    "        actions = np.concatenate((actionA, actionB))\n",
    "        \n",
    "        #actions = np.clip(actions, -1, 1)                 # all actions between -1 and 1\n",
    "        env_info = env.step(actions)[brain_name]           # send all actions to tne environment\n",
    "        next_states = env_info.vector_observations         # get next state (for each agent)\n",
    "        #next_stateA = next_states[0]                       # get next state (for each agent)\n",
    "        #next_stateB = next_states[1]         \n",
    "        \n",
    "        \n",
    "        #rewards = env_info.rewards                         # get reward (for each agent)\n",
    "        #rewardA = rewards[0]                               # get reward (for each agent)\n",
    "        #rewardB = rewards[1]\n",
    "        dones = env_info.local_done                        # see if episode finished\n",
    "        scores += env_info.rewards                         # update the score (for each agent)\n",
    "        states = next_states                               # roll over states to next time step\n",
    "        if np.any(dones):                                  # exit loop if episode finished\n",
    "            break\n",
    "    print('Score (max over agents) from episode {}: {}'.format(i, np.max(scores)))\n"
   ]
  },
  {
   "cell_type": "code",
   "execution_count": 13,
   "metadata": {},
   "outputs": [],
   "source": [
    "env.close()"
   ]
  }
 ],
 "metadata": {
  "kernelspec": {
   "display_name": "Python [conda env:dl]",
   "language": "python",
   "name": "conda-env-dl-py"
  },
  "language_info": {
   "codemirror_mode": {
    "name": "ipython",
    "version": 3
   },
   "file_extension": ".py",
   "mimetype": "text/x-python",
   "name": "python",
   "nbconvert_exporter": "python",
   "pygments_lexer": "ipython3",
   "version": "3.6.8"
  }
 },
 "nbformat": 4,
 "nbformat_minor": 2
}
